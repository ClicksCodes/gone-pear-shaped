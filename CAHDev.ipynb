{
 "cells": [
  {
   "cell_type": "code",
   "execution_count": null,
   "outputs": [],
   "source": [
    "dataList = []"
   ],
   "metadata": {
    "collapsed": false,
    "pycharm": {
     "name": "#%%\n"
    }
   }
  },
  {
   "cell_type": "code",
   "execution_count": 1,
   "outputs": [
    {
     "data": {
      "text/plain": "{}"
     },
     "execution_count": 1,
     "metadata": {},
     "output_type": "execute_result"
    }
   ],
   "source": [
    "dataDictionary = {}\n",
    "dataDictionary.get(\"0000110111\", {})"
   ],
   "metadata": {
    "collapsed": false,
    "pycharm": {
     "name": "#%%\n"
    }
   }
  },
  {
   "cell_type": "code",
   "execution_count": 2,
   "outputs": [
    {
     "data": {
      "text/plain": "{'1': {}}"
     },
     "execution_count": 2,
     "metadata": {},
     "output_type": "execute_result"
    }
   ],
   "source": [
    "{\n",
    "    \"1\": {\n",
    "        \"1.01.001.010\": {\n",
    "            \"001\": 5\n",
    "        }\n",
    "    }\n",
    "}\n"
   ],
   "metadata": {
    "collapsed": false,
    "pycharm": {
     "name": "#%%\n"
    }
   }
  },
  {
   "cell_type": "code",
   "execution_count": 5,
   "outputs": [
    {
     "data": {
      "text/plain": "[{'question': '0001',\n  'selection': ['0110', '0011', '1000', '0110'],\n  'winner': '0011'},\n {'question': '0001',\n  'selection': ['0110', '0011', '1000', '0110'],\n  'winner': '0011'},\n {'question': '0001',\n  'selection': ['0110', '0011', '1000', '0110'],\n  'winner': '0011'},\n {'question': '0001',\n  'selection': ['0110', '0011', '1000', '0110'],\n  'winner': '0011'}]"
     },
     "execution_count": 5,
     "metadata": {},
     "output_type": "execute_result"
    }
   ],
   "source": [
    "[\n",
    "    {\n",
    "        \"question\": \"0001\",\n",
    "        \"selection\": [\"0110\", \"0011\", \"1000\", \"0110\"],\n",
    "        \"winner\": \"0011\",\n",
    "    },\n",
    "    {\n",
    "        \"question\": \"0001\",\n",
    "        \"selection\": [\"0110\", \"0011\", \"1000\", \"0110\"],\n",
    "        \"winner\": \"0011\",\n",
    "    }\n",
    "    ,    {\n",
    "        \"question\": \"0001\",\n",
    "        \"selection\": [\"0110\", \"0011\", \"1000\", \"0110\"],\n",
    "        \"winner\": \"0011\",\n",
    "    },\n",
    "    {\n",
    "        \"question\": \"0001\",\n",
    "        \"selection\": [\"0110\", \"0011\", \"1000\", \"0110\"],\n",
    "        \"winner\": \"0011\",\n",
    "    }\n",
    "]\n"
   ],
   "metadata": {
    "collapsed": false,
    "pycharm": {
     "name": "#%%\n"
    }
   }
  },
  {
   "cell_type": "code",
   "execution_count": 8,
   "outputs": [
    {
     "data": {
      "text/plain": "{'0001': {'0110.0011.1000.0110': {'0011': 4}}}"
     },
     "execution_count": 8,
     "metadata": {},
     "output_type": "execute_result"
    }
   ],
   "source": [
    "{\n",
    "    \"0001\": {\n",
    "        \"0110.0011.1000.0110\":\n",
    "            {\n",
    "                \"0011\": 4\n",
    "            },\n",
    "        \"0110.0011.1000.0100\":\n",
    "            {\n",
    "                \"0100\": 1\n",
    "            }\n",
    "    }\n",
    "}"
   ],
   "metadata": {
    "collapsed": false,
    "pycharm": {
     "name": "#%%\n"
    }
   }
  },
  {
   "cell_type": "code",
   "execution_count": null,
   "outputs": [],
   "source": [
    "\n"
   ],
   "metadata": {
    "collapsed": false,
    "pycharm": {
     "name": "#%%\n"
    }
   }
  }
 ],
 "metadata": {
  "kernelspec": {
   "name": "python3",
   "language": "python",
   "display_name": "Python 3"
  },
  "language_info": {
   "codemirror_mode": {
    "name": "ipython",
    "version": 2
   },
   "file_extension": ".py",
   "mimetype": "text/x-python",
   "name": "python",
   "nbconvert_exporter": "python",
   "pygments_lexer": "ipython2",
   "version": "2.7.6"
  }
 },
 "nbformat": 4,
 "nbformat_minor": 0
}